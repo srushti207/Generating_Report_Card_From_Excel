{
 "cells": [
  {
   "cell_type": "markdown",
   "id": "1d630b28",
   "metadata": {},
   "source": [
    "# Generating Report Card From Excel"
   ]
  },
  {
   "cell_type": "code",
   "execution_count": 4,
   "id": "8f1d4d47",
   "metadata": {},
   "outputs": [],
   "source": [
    "# importing the required libraries\n",
    "\n",
    "import pandas as pd \n",
    "from reportlab.lib.pagesizes import letter\n",
    "from reportlab.pdfgen import canvas\n",
    "from reportlab.platypus import Table, TableStyle\n",
    "from reportlab.lib import colors\n",
    "import os"
   ]
  },
  {
   "cell_type": "code",
   "execution_count": 5,
   "id": "1b3b7f29",
   "metadata": {},
   "outputs": [],
   "source": [
    "# uploading the file\n",
    "file_path = \"student_scores.xlsx\""
   ]
  },
  {
   "cell_type": "code",
   "execution_count": 9,
   "id": "1a22aab7",
   "metadata": {},
   "outputs": [],
   "source": [
    "def generate_report_card(file_path):\n",
    "    try:\n",
    "\n",
    "        data = pd.read_excel(file_path)   #reading the file\n",
    "        required_columns = {\"Student ID\", \"Name\", \"Subject\", \"Score\"}  #validate columns\n",
    "        if not required_columns.issubset(data.columns):\n",
    "            raise ValueError(f\"Excel file must contain the columns: {required_columns}\")\n",
    "            \n",
    "        if data.isnull().any().any():  #Handling missing or invalide data\n",
    "            print(\"Warning: Missing data found. Filling with default values.\")\n",
    "            data.fillna({\"Score\": 0}, inplace=True)\n",
    "        \n",
    "        grouped = data.groupby([\"Student ID\", \"Name\"])   #grouping and calculating metrics\n",
    "        total_scores = grouped[\"Score\"].sum()\n",
    "        avg_scores = grouped[\"Score\"].mean()\n",
    "        \n",
    "        for (student_id, student_name), group in grouped:   #generating pdf for each student\n",
    "            # File name\n",
    "            file_name = f\"report_card_{student_id}.pdf\"\n",
    "            \n",
    "            # Creating a PDF canvas\n",
    "            c = canvas.Canvas(file_name, pagesize=letter)\n",
    "            c.setFont(\"Helvetica-Bold\", 14)\n",
    "            \n",
    "            # Title\n",
    "            c.drawString(100, 750, f\"Report Card for {student_name}\")\n",
    "            c.setFont(\"Helvetica\", 12)\n",
    "            \n",
    "            # Total and Average Scores\n",
    "            c.drawString(100, 720, f\"Total Score: {total_scores.loc[(student_id, student_name)]}\")\n",
    "            c.drawString(100, 700, f\"Average Score: {avg_scores.loc[(student_id, student_name)]:.2f}\")\n",
    "            \n",
    "            # Subject-wise Scores Table\n",
    "            subject_scores = group[[\"Subject\", \"Score\"]]\n",
    "            data_list = [[\"Subject\", \"Score\"]] + subject_scores.values.tolist()\n",
    "            table = Table(data_list, colWidths=[200, 100])\n",
    "            \n",
    "            # Adding table styles\n",
    "            style = TableStyle([\n",
    "                (\"BACKGROUND\", (0, 0), (-1, 0), colors.grey),\n",
    "                (\"TEXTCOLOR\", (0, 0), (-1, 0), colors.whitesmoke),\n",
    "                (\"ALIGN\", (0, 0), (-1, -1), \"CENTER\"),\n",
    "                (\"FONTNAME\", (0, 0), (-1, 0), \"Helvetica-Bold\"),\n",
    "                (\"BOTTOMPADDING\", (0, 0), (-1, 0), 12),\n",
    "                (\"BACKGROUND\", (0, 1), (-1, -1), colors.beige),\n",
    "                (\"GRID\", (0, 0), (-1, -1), 1, colors.black),\n",
    "            ])\n",
    "            table.setStyle(style)\n",
    "            \n",
    "            # Add table to PDF\n",
    "            table.wrapOn(c, 100, 600)\n",
    "            table.drawOn(c, 100, 550)\n",
    "            \n",
    "            # Save PDF\n",
    "            c.save()\n",
    "            print(f\"Generated: {file_name}\")\n",
    "    \n",
    "    except FileNotFoundError:\n",
    "        print(\"Error: The specified file does not exist.\")\n",
    "    except ValueError as e:\n",
    "        print(f\"Error: {e}\")\n",
    "    except Exception as e:\n",
    "        print(f\"An unexpected error occurred: {e}\")"
   ]
  },
  {
   "cell_type": "code",
   "execution_count": 10,
   "id": "54622162",
   "metadata": {},
   "outputs": [
    {
     "name": "stdout",
     "output_type": "stream",
     "text": [
      "Generated: report_card_101.pdf\n",
      "Generated: report_card_102.pdf\n",
      "Generated: report_card_103.pdf\n"
     ]
    }
   ],
   "source": [
    "generate_report_card(file_path)"
   ]
  },
  {
   "cell_type": "markdown",
   "id": "bb52c184",
   "metadata": {},
   "source": [
    "## Explanation"
   ]
  },
  {
   "cell_type": "markdown",
   "id": "d478a027",
   "metadata": {},
   "source": [
    "1. Reading the Data:\n",
    "Use the pandas library to load the data from an Excel file (student_scores.xlsx).\n",
    "Validate that the necessary columns (Student ID, Name, Subject, Score) are present. Handle missing or invalid data by filling or discarding incomplete rows.\n",
    "\n",
    "2. Aggregating Data:\n",
    "Group the data by Student ID and Name to compute each student's total and average scores.\n",
    "Extract subject-wise scores for individual students for detailed reporting.\n",
    "\n",
    "3. Generating PDF Report Cards:\n",
    "Use the ReportLab library to create PDF files.\n",
    "Each report includes:\n",
    "  The student’s name.\n",
    "  Their total score and average score.\n",
    "  A table displaying their subject-wise scores.\n",
    "Apply styling to the table for better readability.\n",
    "\n",
    "4. Saving PDF Files:\n",
    "Name each file using the format report_card_<StudentID>.pdf and save it in the working directory.\n",
    "\n",
    "5. Error Handling:\n",
    "Include error handling for file-related issues (e.g., missing file), missing columns, or unexpected data formats."
   ]
  }
 ],
 "metadata": {
  "kernelspec": {
   "display_name": "Python 3 (ipykernel)",
   "language": "python",
   "name": "python3"
  },
  "language_info": {
   "codemirror_mode": {
    "name": "ipython",
    "version": 3
   },
   "file_extension": ".py",
   "mimetype": "text/x-python",
   "name": "python",
   "nbconvert_exporter": "python",
   "pygments_lexer": "ipython3",
   "version": "3.11.3"
  }
 },
 "nbformat": 4,
 "nbformat_minor": 5
}
